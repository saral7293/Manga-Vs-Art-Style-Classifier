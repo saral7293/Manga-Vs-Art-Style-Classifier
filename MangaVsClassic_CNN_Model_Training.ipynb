{
  "cells": [
    {
      "cell_type": "markdown",
      "metadata": {
        "id": "MLhd_u7-hMSJ"
      },
      "source": [
        "# Import the libraries"
      ]
    },
    {
      "cell_type": "code",
      "execution_count": 1,
      "metadata": {
        "id": "hDBfoajOhMSN"
      },
      "outputs": [],
      "source": [
        "import numpy as np\n",
        "import pandas as pd\n",
        "\n",
        "import os\n",
        "import shutil\n",
        "\n",
        "import pickle as pk\n",
        "\n",
        "import cv2\n",
        "import matplotlib.pyplot as plt\n",
        "%matplotlib inline\n",
        "\n",
        "from keras import layers\n",
        "from keras import models\n",
        "from keras.callbacks import EarlyStopping, ModelCheckpoint\n",
        "from keras.preprocessing.image import ImageDataGenerator\n",
        "from keras.models import load_model\n",
        "\n",
        "from keras.applications import VGG16"
      ]
    },
    {
      "cell_type": "code",
      "source": [
        "list_manga_training = 675\n",
        "list_classic_training = 686\n",
        "\n",
        "list_manga_validation = 250\n",
        "list_classic_validation = 250\n",
        "\n",
        "\n",
        "list_manga_test = 30\n",
        "list_classic_test = 30"
      ],
      "metadata": {
        "id": "_WDoADaUuShw"
      },
      "execution_count": 9,
      "outputs": []
    },
    {
      "cell_type": "markdown",
      "metadata": {
        "id": "4Dz-EWLohMSQ"
      },
      "source": [
        "# Data pre-processing"
      ]
    },
    {
      "cell_type": "markdown",
      "metadata": {
        "id": "T_ukGNOAhMSQ"
      },
      "source": [
        "## Train-Validation-Test Split"
      ]
    },
    {
      "cell_type": "markdown",
      "metadata": {
        "id": "wgpYjeGWhMSS"
      },
      "source": [
        "## Obtaining the lists of randomly selected images"
      ]
    },
    {
      "cell_type": "code",
      "execution_count": 4,
      "metadata": {
        "id": "dLRXeCltiqwP"
      },
      "outputs": [],
      "source": [
        "#Number of manga style training images= 675\n",
        "#Number of classic style training images= 686\n",
        "#Number of manga style validation images= 250\n",
        "#Number of classic style validation images= 250\n",
        "#Number of manga style test images= 30\n",
        "#Number of classic style test images= 30"
      ]
    },
    {
      "cell_type": "code",
      "execution_count": 5,
      "metadata": {
        "colab": {
          "base_uri": "https://localhost:8080/"
        },
        "id": "BAwY4OyNhzJY",
        "outputId": "49984c23-59cb-48d1-c75d-5d642329ba37"
      },
      "outputs": [
        {
          "output_type": "stream",
          "name": "stdout",
          "text": [
            "Mounted at /content/drive\n"
          ]
        }
      ],
      "source": [
        "from google.colab import drive\n",
        "drive.mount('/content/drive')\n"
      ]
    },
    {
      "cell_type": "markdown",
      "metadata": {
        "id": "SUQpamgKhMST"
      },
      "source": [
        "## Determination of the directories"
      ]
    },
    {
      "cell_type": "code",
      "execution_count": 6,
      "metadata": {
        "id": "UYEkgGxchMSU"
      },
      "outputs": [],
      "source": [
        "root_directory = os.getcwd()\n",
        "\n",
        "train_dir = os.path.join(root_directory, '/content/drive/MyDrive/Comics/train')\n",
        "validation_dir = os.path.join(root_directory, '/content/drive/MyDrive/Comics/validation')\n",
        "test_dir = os.path.join(root_directory, '/content/drive/MyDrive/Comics/test')"
      ]
    },
    {
      "cell_type": "markdown",
      "metadata": {
        "id": "tYp22W_WhMSV"
      },
      "source": [
        "## Obtain the total number of training, validation and test images"
      ]
    },
    {
      "cell_type": "code",
      "execution_count": 11,
      "metadata": {
        "colab": {
          "base_uri": "https://localhost:8080/"
        },
        "id": "lIdYuKsghMSV",
        "outputId": "dc290eb7-ed41-456c-d77f-b84fe016fb15"
      },
      "outputs": [
        {
          "output_type": "stream",
          "name": "stdout",
          "text": [
            "Total training manga images: 675\n",
            "Total training classic images: 686\n",
            "\n",
            "Total training images: 1361\n"
          ]
        }
      ],
      "source": [
        "num_manga_img_train = list_manga_training\n",
        "num_classic_img_train = list_classic_training\n",
        "\n",
        "num_train_images_total = num_manga_img_train + num_classic_img_train\n",
        "\n",
        "print('Total training manga images: ' + str(num_manga_img_train))\n",
        "print('Total training classic images: ' + str(num_classic_img_train))\n",
        "print()\n",
        "print('Total training images: ' + str(num_train_images_total))"
      ]
    },
    {
      "cell_type": "code",
      "execution_count": 12,
      "metadata": {
        "colab": {
          "base_uri": "https://localhost:8080/"
        },
        "id": "_fFUR1FYhMSW",
        "outputId": "72e01df5-610b-4ec9-dade-94854a044f6d"
      },
      "outputs": [
        {
          "output_type": "stream",
          "name": "stdout",
          "text": [
            "Total validation manga images: 250\n",
            "Total validation classic images: 250\n",
            "\n",
            "Total validation images: 500\n"
          ]
        }
      ],
      "source": [
        "num_manga_img_validation = list_manga_validation\n",
        "num_classic_img_validation = list_classic_validation\n",
        "\n",
        "num_validation_images_total = num_manga_img_validation + num_classic_img_validation\n",
        "\n",
        "print('Total validation manga images: ' + str(num_manga_img_validation))\n",
        "print('Total validation classic images: ' + str(num_classic_img_validation))\n",
        "print()\n",
        "print('Total validation images: ' + str(num_validation_images_total))\n"
      ]
    },
    {
      "cell_type": "code",
      "execution_count": 13,
      "metadata": {
        "colab": {
          "base_uri": "https://localhost:8080/"
        },
        "id": "4T7nGcBvhMSX",
        "outputId": "55e07286-619b-4fa6-b1c5-648df1a7f3c2"
      },
      "outputs": [
        {
          "output_type": "stream",
          "name": "stdout",
          "text": [
            "Total test manga images: 30\n",
            "Total test classic images: 30\n",
            "\n",
            "Total test images: 60\n"
          ]
        }
      ],
      "source": [
        "num_manga_img_test = list_manga_test\n",
        "num_classic_img_test = list_classic_test\n",
        "\n",
        "num_test_images_total = num_manga_img_test + num_classic_img_test\n",
        "\n",
        "print('Total test manga images: ' + str(num_manga_img_test))\n",
        "print('Total test classic images: ' + str(num_classic_img_test))\n",
        "print()\n",
        "print('Total test images: ' + str(num_test_images_total))"
      ]
    },
    {
      "cell_type": "markdown",
      "metadata": {
        "id": "C7rOS5BYhMSY"
      },
      "source": [
        "# Feature Extraction with Data Augmentation"
      ]
    },
    {
      "cell_type": "markdown",
      "metadata": {
        "id": "EPrGpc5uhMSZ"
      },
      "source": [
        "## Name Definitions"
      ]
    },
    {
      "cell_type": "code",
      "execution_count": 14,
      "metadata": {
        "id": "hDWeSiB2hMSZ"
      },
      "outputs": [],
      "source": [
        "checkpoint_no = 'ckpt_1_CNN_with_TF_VGG19_with_DataAug'\n",
        "model_name = 'Animals_CNN_TF_VGG19_epoch_30_ES'"
      ]
    },
    {
      "cell_type": "markdown",
      "metadata": {
        "id": "e_JolXM6hMSZ"
      },
      "source": [
        "## Parameter Settings"
      ]
    },
    {
      "cell_type": "code",
      "execution_count": 15,
      "metadata": {
        "colab": {
          "base_uri": "https://localhost:8080/"
        },
        "id": "OrnvFyu6hMSa",
        "outputId": "416bd705-8322-47cc-ad81-dc61d927f5a9"
      },
      "outputs": [
        {
          "output_type": "stream",
          "name": "stdout",
          "text": [
            "Input Shape: (150, 150, 3)\n",
            "Batch Size: 32\n",
            "\n",
            "Steps per Epoch: 42\n",
            "\n",
            "Validation Steps: 15\n",
            "Test Steps: 1\n",
            "\n",
            "Number of Epochs: 30\n",
            "\n",
            "Number of Classes: 2\n"
          ]
        }
      ],
      "source": [
        "img_height = 150\n",
        "img_width = 150\n",
        "input_shape = (img_height, img_width, 3)\n",
        "\n",
        "n_batch_size = 32\n",
        "\n",
        "n_steps_per_epoch = int(num_train_images_total / n_batch_size)\n",
        "n_validation_steps = int(num_validation_images_total / n_batch_size)\n",
        "n_test_steps = int(num_test_images_total / n_batch_size)\n",
        "\n",
        "n_epochs = 30\n",
        "\n",
        "num_classes = 2\n",
        "\n",
        "print('Input Shape: '+'('+str(img_height)+', '+str(img_width)+', ' + str(3)+')')\n",
        "print('Batch Size: ' + str(n_batch_size))\n",
        "print()\n",
        "print('Steps per Epoch: ' + str(n_steps_per_epoch))\n",
        "print()\n",
        "print('Validation Steps: ' + str(n_validation_steps))\n",
        "print('Test Steps: ' + str(n_test_steps))\n",
        "print()\n",
        "print('Number of Epochs: ' + str(n_epochs))\n",
        "print()\n",
        "print('Number of Classes: ' + str(num_classes))"
      ]
    },
    {
      "cell_type": "markdown",
      "metadata": {
        "id": "ZVhjP9hWhMSb"
      },
      "source": [
        "## Instantiating the VGG19 convolutional base"
      ]
    },
    {
      "cell_type": "code",
      "execution_count": 16,
      "metadata": {
        "colab": {
          "base_uri": "https://localhost:8080/"
        },
        "id": "NOSEsfB3hMSb",
        "outputId": "3999899e-8a44-4e66-af51-67337fb40037"
      },
      "outputs": [
        {
          "output_type": "stream",
          "name": "stdout",
          "text": [
            "Downloading data from https://storage.googleapis.com/tensorflow/keras-applications/vgg16/vgg16_weights_tf_dim_ordering_tf_kernels_notop.h5\n",
            "58889256/58889256 [==============================] - 0s 0us/step\n"
          ]
        }
      ],
      "source": [
        "VGG19_base = VGG16(weights='imagenet',\n",
        "                  include_top=False,\n",
        "                  input_shape=input_shape)\n",
        "\n",
        "conv_base = VGG19_base"
      ]
    },
    {
      "cell_type": "code",
      "execution_count": 17,
      "metadata": {
        "colab": {
          "base_uri": "https://localhost:8080/"
        },
        "id": "Ini3CPFphMSb",
        "outputId": "127b9c2a-6663-40c8-9043-39dfb18be28e"
      },
      "outputs": [
        {
          "output_type": "stream",
          "name": "stdout",
          "text": [
            "Model: \"vgg16\"\n",
            "_________________________________________________________________\n",
            " Layer (type)                Output Shape              Param #   \n",
            "=================================================================\n",
            " input_1 (InputLayer)        [(None, 150, 150, 3)]     0         \n",
            "                                                                 \n",
            " block1_conv1 (Conv2D)       (None, 150, 150, 64)      1792      \n",
            "                                                                 \n",
            " block1_conv2 (Conv2D)       (None, 150, 150, 64)      36928     \n",
            "                                                                 \n",
            " block1_pool (MaxPooling2D)  (None, 75, 75, 64)        0         \n",
            "                                                                 \n",
            " block2_conv1 (Conv2D)       (None, 75, 75, 128)       73856     \n",
            "                                                                 \n",
            " block2_conv2 (Conv2D)       (None, 75, 75, 128)       147584    \n",
            "                                                                 \n",
            " block2_pool (MaxPooling2D)  (None, 37, 37, 128)       0         \n",
            "                                                                 \n",
            " block3_conv1 (Conv2D)       (None, 37, 37, 256)       295168    \n",
            "                                                                 \n",
            " block3_conv2 (Conv2D)       (None, 37, 37, 256)       590080    \n",
            "                                                                 \n",
            " block3_conv3 (Conv2D)       (None, 37, 37, 256)       590080    \n",
            "                                                                 \n",
            " block3_pool (MaxPooling2D)  (None, 18, 18, 256)       0         \n",
            "                                                                 \n",
            " block4_conv1 (Conv2D)       (None, 18, 18, 512)       1180160   \n",
            "                                                                 \n",
            " block4_conv2 (Conv2D)       (None, 18, 18, 512)       2359808   \n",
            "                                                                 \n",
            " block4_conv3 (Conv2D)       (None, 18, 18, 512)       2359808   \n",
            "                                                                 \n",
            " block4_pool (MaxPooling2D)  (None, 9, 9, 512)         0         \n",
            "                                                                 \n",
            " block5_conv1 (Conv2D)       (None, 9, 9, 512)         2359808   \n",
            "                                                                 \n",
            " block5_conv2 (Conv2D)       (None, 9, 9, 512)         2359808   \n",
            "                                                                 \n",
            " block5_conv3 (Conv2D)       (None, 9, 9, 512)         2359808   \n",
            "                                                                 \n",
            " block5_pool (MaxPooling2D)  (None, 4, 4, 512)         0         \n",
            "                                                                 \n",
            "=================================================================\n",
            "Total params: 14714688 (56.13 MB)\n",
            "Trainable params: 14714688 (56.13 MB)\n",
            "Non-trainable params: 0 (0.00 Byte)\n",
            "_________________________________________________________________\n"
          ]
        }
      ],
      "source": [
        "conv_base.summary()"
      ]
    },
    {
      "cell_type": "markdown",
      "metadata": {
        "id": "PWq5T2ODhMSb"
      },
      "source": [
        "## Instantiating a densely connected classifier"
      ]
    },
    {
      "cell_type": "markdown",
      "metadata": {
        "id": "Wayy2JDZhMSc"
      },
      "source": [
        "### Layer Structure"
      ]
    },
    {
      "cell_type": "code",
      "execution_count": 18,
      "metadata": {
        "id": "V1jCz6JjhMSc"
      },
      "outputs": [],
      "source": [
        "model = models.Sequential()\n",
        "model.add(conv_base)\n",
        "model.add(layers.Flatten())\n",
        "model.add(layers.Dense(256, activation='relu'))\n",
        "model.add(layers.Dense(num_classes, activation='softmax'))"
      ]
    },
    {
      "cell_type": "code",
      "execution_count": 19,
      "metadata": {
        "colab": {
          "base_uri": "https://localhost:8080/"
        },
        "id": "oZWcG8rWhMSc",
        "outputId": "a4756fed-06a2-4809-bd76-0624f1ded04a"
      },
      "outputs": [
        {
          "output_type": "stream",
          "name": "stdout",
          "text": [
            "Model: \"sequential\"\n",
            "_________________________________________________________________\n",
            " Layer (type)                Output Shape              Param #   \n",
            "=================================================================\n",
            " vgg16 (Functional)          (None, 4, 4, 512)         14714688  \n",
            "                                                                 \n",
            " flatten (Flatten)           (None, 8192)              0         \n",
            "                                                                 \n",
            " dense (Dense)               (None, 256)               2097408   \n",
            "                                                                 \n",
            " dense_1 (Dense)             (None, 2)                 514       \n",
            "                                                                 \n",
            "=================================================================\n",
            "Total params: 16812610 (64.14 MB)\n",
            "Trainable params: 16812610 (64.14 MB)\n",
            "Non-trainable params: 0 (0.00 Byte)\n",
            "_________________________________________________________________\n"
          ]
        }
      ],
      "source": [
        "model.summary()"
      ]
    },
    {
      "cell_type": "code",
      "execution_count": 20,
      "metadata": {
        "colab": {
          "base_uri": "https://localhost:8080/"
        },
        "id": "yIenv0bshMSd",
        "outputId": "f3dcb3f4-8561-41b5-a98a-f0f8a316c177"
      },
      "outputs": [
        {
          "output_type": "stream",
          "name": "stdout",
          "text": [
            "Number of trainable weights before freezing the conv base: 30\n"
          ]
        }
      ],
      "source": [
        "print('Number of trainable weights before freezing the conv base:', len(model.trainable_weights))"
      ]
    },
    {
      "cell_type": "code",
      "execution_count": 21,
      "metadata": {
        "id": "HpuwLFTLhMSd"
      },
      "outputs": [],
      "source": [
        "conv_base.trainable = False\n",
        "\n",
        "model = models.Sequential()\n",
        "model.add(conv_base)\n",
        "model.add(layers.Flatten())\n",
        "model.add(layers.Dense(256, activation='relu'))\n",
        "model.add(layers.Dense(num_classes, activation='sigmoid'))"
      ]
    },
    {
      "cell_type": "code",
      "execution_count": 22,
      "metadata": {
        "colab": {
          "base_uri": "https://localhost:8080/"
        },
        "id": "B8V0ngnnhMSe",
        "outputId": "a7f7ea16-a5a4-43b7-b467-44032429903e"
      },
      "outputs": [
        {
          "output_type": "stream",
          "name": "stdout",
          "text": [
            "Model: \"sequential_1\"\n",
            "_________________________________________________________________\n",
            " Layer (type)                Output Shape              Param #   \n",
            "=================================================================\n",
            " vgg16 (Functional)          (None, 4, 4, 512)         14714688  \n",
            "                                                                 \n",
            " flatten_1 (Flatten)         (None, 8192)              0         \n",
            "                                                                 \n",
            " dense_2 (Dense)             (None, 256)               2097408   \n",
            "                                                                 \n",
            " dense_3 (Dense)             (None, 2)                 514       \n",
            "                                                                 \n",
            "=================================================================\n",
            "Total params: 16812610 (64.14 MB)\n",
            "Trainable params: 2097922 (8.00 MB)\n",
            "Non-trainable params: 14714688 (56.13 MB)\n",
            "_________________________________________________________________\n"
          ]
        }
      ],
      "source": [
        "model.summary()"
      ]
    },
    {
      "cell_type": "code",
      "execution_count": 23,
      "metadata": {
        "colab": {
          "base_uri": "https://localhost:8080/"
        },
        "id": "iv6kzRExhMSe",
        "outputId": "db0cd8c5-5a21-4075-c012-34dc66e32162"
      },
      "outputs": [
        {
          "output_type": "stream",
          "name": "stdout",
          "text": [
            "Number of trainable weights after freezing the conv base: 4\n"
          ]
        }
      ],
      "source": [
        "print('Number of trainable weights after freezing the conv base:', len(model.trainable_weights))"
      ]
    },
    {
      "cell_type": "markdown",
      "metadata": {
        "id": "s-hUFZ2LhMSf"
      },
      "source": [
        "### Configuring the model for training"
      ]
    },
    {
      "cell_type": "code",
      "execution_count": 24,
      "metadata": {
        "id": "kXEk9eBKhMSf"
      },
      "outputs": [],
      "source": [
        "model.compile(loss='binary_crossentropy',\n",
        "              optimizer='adam',\n",
        "              metrics=['accuracy'])"
      ]
    },
    {
      "cell_type": "markdown",
      "metadata": {
        "id": "aoG8_iYThMSf"
      },
      "source": [
        "### Using ImageDataGenerator"
      ]
    },
    {
      "cell_type": "code",
      "execution_count": 25,
      "metadata": {
        "colab": {
          "base_uri": "https://localhost:8080/"
        },
        "id": "tQvbl_ubhMSf",
        "outputId": "b7de11ce-810f-41f5-da71-a3af2b7c35d9"
      },
      "outputs": [
        {
          "output_type": "stream",
          "name": "stdout",
          "text": [
            "Found 1361 images belonging to 2 classes.\n",
            "Found 500 images belonging to 2 classes.\n"
          ]
        }
      ],
      "source": [
        "train_datagen = ImageDataGenerator(\n",
        "    rescale=1./255,\n",
        "    rotation_range=40,\n",
        "    width_shift_range=0.2,\n",
        "    height_shift_range=0.2,\n",
        "    shear_range=0.2,\n",
        "    zoom_range=0.2,\n",
        "    horizontal_flip=True,)\n",
        "\n",
        "validation_datagen = ImageDataGenerator(rescale=1./255)\n",
        "\n",
        "\n",
        "train_generator = train_datagen.flow_from_directory(\n",
        "        train_dir,\n",
        "        target_size=(img_height, img_width),\n",
        "        batch_size=n_batch_size,\n",
        "        class_mode='categorical')\n",
        "\n",
        "\n",
        "validation_generator = validation_datagen.flow_from_directory(\n",
        "        validation_dir,\n",
        "        target_size=(img_height, img_width),\n",
        "        batch_size=n_batch_size,\n",
        "        class_mode='categorical')"
      ]
    },
    {
      "cell_type": "markdown",
      "metadata": {
        "id": "gJfUVwbxhMSg"
      },
      "source": [
        "## Callbacks"
      ]
    },
    {
      "cell_type": "code",
      "execution_count": 26,
      "metadata": {
        "id": "wIHQGi15hMSg"
      },
      "outputs": [],
      "source": [
        "# Prepare a directory to store all the checkpoints.\n",
        "checkpoint_dir = checkpoint_no\n",
        "if not os.path.exists(checkpoint_dir):\n",
        "    os.makedirs(checkpoint_dir)"
      ]
    },
    {
      "cell_type": "code",
      "execution_count": 27,
      "metadata": {
        "id": "h-Thrk0hhMSh"
      },
      "outputs": [],
      "source": [
        "keras_callbacks = [ModelCheckpoint(filepath = checkpoint_dir,\n",
        "                                   monitor='val_loss', save_best_only=True, mode='auto'),\n",
        "                   EarlyStopping(monitor='val_loss', patience=5, mode='auto',\n",
        "                                 min_delta = 0, verbose=1)]"
      ]
    },
    {
      "cell_type": "markdown",
      "metadata": {
        "id": "3uIZw3bjhMSh"
      },
      "source": [
        "## Fitting the model"
      ]
    },
    {
      "cell_type": "code",
      "execution_count": null,
      "metadata": {
        "colab": {
          "background_save": true,
          "base_uri": "https://localhost:8080/"
        },
        "id": "FZ59Kq6phMSh",
        "outputId": "6700fd6f-7a66-4fc6-fee2-d4d9fa93b80d"
      },
      "outputs": [
        {
          "name": "stdout",
          "output_type": "stream",
          "text": [
            "Epoch 1/30\n",
            "42/42 [==============================] - 542s 13s/step - loss: 0.6950 - accuracy: 0.6802 - val_loss: 0.5206 - val_accuracy: 0.7354\n",
            "Epoch 2/30\n",
            "42/42 [==============================] - 459s 11s/step - loss: 0.4749 - accuracy: 0.7818 - val_loss: 0.4487 - val_accuracy: 0.7937\n",
            "Epoch 3/30\n",
            "42/42 [==============================] - 459s 11s/step - loss: 0.4514 - accuracy: 0.7833 - val_loss: 0.4398 - val_accuracy: 0.8104\n",
            "Epoch 4/30\n",
            "42/42 [==============================] - 425s 10s/step - loss: 0.4241 - accuracy: 0.8066 - val_loss: 0.4320 - val_accuracy: 0.8125\n",
            "Epoch 5/30\n",
            "42/42 [==============================] - 455s 11s/step - loss: 0.4233 - accuracy: 0.7803 - val_loss: 0.4853 - val_accuracy: 0.7583\n",
            "Epoch 6/30\n",
            "42/42 [==============================] - 421s 10s/step - loss: 0.3831 - accuracy: 0.8337 - val_loss: 0.5896 - val_accuracy: 0.7042\n",
            "Epoch 7/30\n",
            "42/42 [==============================] - 423s 10s/step - loss: 0.3992 - accuracy: 0.8172 - val_loss: 0.4427 - val_accuracy: 0.8042\n",
            "Epoch 8/30\n",
            "42/42 [==============================] - 454s 11s/step - loss: 0.3779 - accuracy: 0.8202 - val_loss: 0.4512 - val_accuracy: 0.7875\n",
            "Epoch 9/30\n",
            "42/42 [==============================] - 422s 10s/step - loss: 0.3874 - accuracy: 0.8299 - val_loss: 0.4953 - val_accuracy: 0.7604\n",
            "Epoch 9: early stopping\n"
          ]
        }
      ],
      "source": [
        "history = model.fit(\n",
        "      train_generator,\n",
        "      steps_per_epoch=42,\n",
        "      epochs=30,\n",
        "      validation_data=validation_generator,\n",
        "      validation_steps=n_validation_steps,\n",
        "      callbacks=keras_callbacks)"
      ]
    },
    {
      "cell_type": "markdown",
      "metadata": {
        "id": "8yNEajKJhMSi"
      },
      "source": [
        "## Obtaining the best model values"
      ]
    },
    {
      "cell_type": "code",
      "execution_count": null,
      "metadata": {
        "colab": {
          "base_uri": "https://localhost:8080/",
          "height": 206
        },
        "id": "cM_ioJPWhMTB",
        "outputId": "437fdce2-6cf9-4c56-94ba-f7640314645b"
      },
      "outputs": [
        {
          "data": {
            "application/vnd.google.colaboratory.intrinsic+json": {
              "summary": "{\n  \"name\": \"hist_df\",\n  \"rows\": 16,\n  \"fields\": [\n    {\n      \"column\": \"epoch\",\n      \"properties\": {\n        \"dtype\": \"number\",\n        \"std\": 4,\n        \"min\": 1,\n        \"max\": 16,\n        \"num_unique_values\": 16,\n        \"samples\": [\n          1,\n          2,\n          6\n        ],\n        \"semantic_type\": \"\",\n        \"description\": \"\"\n      }\n    },\n    {\n      \"column\": \"loss\",\n      \"properties\": {\n        \"dtype\": \"number\",\n        \"std\": 0.08662935220867134,\n        \"min\": 0.3337952494621277,\n        \"max\": 0.688970685005188,\n        \"num_unique_values\": 16,\n        \"samples\": [\n          0.688970685005188,\n          0.4815979599952698,\n          0.39871883392333984\n        ],\n        \"semantic_type\": \"\",\n        \"description\": \"\"\n      }\n    },\n    {\n      \"column\": \"accuracy\",\n      \"properties\": {\n        \"dtype\": \"number\",\n        \"std\": 0.04777731044716955,\n        \"min\": 0.6606470942497253,\n        \"max\": 0.8532731533050537,\n        \"num_unique_values\": 16,\n        \"samples\": [\n          0.6606470942497253,\n          0.7592174410820007,\n          0.8148984313011169\n        ],\n        \"semantic_type\": \"\",\n        \"description\": \"\"\n      }\n    },\n    {\n      \"column\": \"val_loss\",\n      \"properties\": {\n        \"dtype\": \"number\",\n        \"std\": 0.05654335191449404,\n        \"min\": 0.4244680106639862,\n        \"max\": 0.6073226928710938,\n        \"num_unique_values\": 16,\n        \"samples\": [\n          0.4903181791305542,\n          0.44778144359588623,\n          0.4679010808467865\n        ],\n        \"semantic_type\": \"\",\n        \"description\": \"\"\n      }\n    },\n    {\n      \"column\": \"val_accuracy\",\n      \"properties\": {\n        \"dtype\": \"number\",\n        \"std\": 0.030218806480354198,\n        \"min\": 0.7104166746139526,\n        \"max\": 0.8083333373069763,\n        \"num_unique_values\": 15,\n        \"samples\": [\n          0.8062499761581421,\n          0.71875,\n          0.7770833373069763\n        ],\n        \"semantic_type\": \"\",\n        \"description\": \"\"\n      }\n    }\n  ]\n}",
              "type": "dataframe",
              "variable_name": "hist_df"
            },
            "text/html": [
              "\n",
              "  <div id=\"df-593b6405-7a8b-4ad8-8fe3-87aac16a91e3\" class=\"colab-df-container\">\n",
              "    <div>\n",
              "<style scoped>\n",
              "    .dataframe tbody tr th:only-of-type {\n",
              "        vertical-align: middle;\n",
              "    }\n",
              "\n",
              "    .dataframe tbody tr th {\n",
              "        vertical-align: top;\n",
              "    }\n",
              "\n",
              "    .dataframe thead th {\n",
              "        text-align: right;\n",
              "    }\n",
              "</style>\n",
              "<table border=\"1\" class=\"dataframe\">\n",
              "  <thead>\n",
              "    <tr style=\"text-align: right;\">\n",
              "      <th></th>\n",
              "      <th>epoch</th>\n",
              "      <th>loss</th>\n",
              "      <th>accuracy</th>\n",
              "      <th>val_loss</th>\n",
              "      <th>val_accuracy</th>\n",
              "    </tr>\n",
              "  </thead>\n",
              "  <tbody>\n",
              "    <tr>\n",
              "      <th>0</th>\n",
              "      <td>1</td>\n",
              "      <td>0.688971</td>\n",
              "      <td>0.660647</td>\n",
              "      <td>0.490318</td>\n",
              "      <td>0.777083</td>\n",
              "    </tr>\n",
              "    <tr>\n",
              "      <th>1</th>\n",
              "      <td>2</td>\n",
              "      <td>0.481598</td>\n",
              "      <td>0.759217</td>\n",
              "      <td>0.447781</td>\n",
              "      <td>0.791667</td>\n",
              "    </tr>\n",
              "    <tr>\n",
              "      <th>2</th>\n",
              "      <td>3</td>\n",
              "      <td>0.458042</td>\n",
              "      <td>0.777276</td>\n",
              "      <td>0.467737</td>\n",
              "      <td>0.756250</td>\n",
              "    </tr>\n",
              "    <tr>\n",
              "      <th>3</th>\n",
              "      <td>4</td>\n",
              "      <td>0.426282</td>\n",
              "      <td>0.799850</td>\n",
              "      <td>0.470532</td>\n",
              "      <td>0.783333</td>\n",
              "    </tr>\n",
              "    <tr>\n",
              "      <th>4</th>\n",
              "      <td>5</td>\n",
              "      <td>0.413478</td>\n",
              "      <td>0.794582</td>\n",
              "      <td>0.447338</td>\n",
              "      <td>0.781250</td>\n",
              "    </tr>\n",
              "  </tbody>\n",
              "</table>\n",
              "</div>\n",
              "    <div class=\"colab-df-buttons\">\n",
              "\n",
              "  <div class=\"colab-df-container\">\n",
              "    <button class=\"colab-df-convert\" onclick=\"convertToInteractive('df-593b6405-7a8b-4ad8-8fe3-87aac16a91e3')\"\n",
              "            title=\"Convert this dataframe to an interactive table.\"\n",
              "            style=\"display:none;\">\n",
              "\n",
              "  <svg xmlns=\"http://www.w3.org/2000/svg\" height=\"24px\" viewBox=\"0 -960 960 960\">\n",
              "    <path d=\"M120-120v-720h720v720H120Zm60-500h600v-160H180v160Zm220 220h160v-160H400v160Zm0 220h160v-160H400v160ZM180-400h160v-160H180v160Zm440 0h160v-160H620v160ZM180-180h160v-160H180v160Zm440 0h160v-160H620v160Z\"/>\n",
              "  </svg>\n",
              "    </button>\n",
              "\n",
              "  <style>\n",
              "    .colab-df-container {\n",
              "      display:flex;\n",
              "      gap: 12px;\n",
              "    }\n",
              "\n",
              "    .colab-df-convert {\n",
              "      background-color: #E8F0FE;\n",
              "      border: none;\n",
              "      border-radius: 50%;\n",
              "      cursor: pointer;\n",
              "      display: none;\n",
              "      fill: #1967D2;\n",
              "      height: 32px;\n",
              "      padding: 0 0 0 0;\n",
              "      width: 32px;\n",
              "    }\n",
              "\n",
              "    .colab-df-convert:hover {\n",
              "      background-color: #E2EBFA;\n",
              "      box-shadow: 0px 1px 2px rgba(60, 64, 67, 0.3), 0px 1px 3px 1px rgba(60, 64, 67, 0.15);\n",
              "      fill: #174EA6;\n",
              "    }\n",
              "\n",
              "    .colab-df-buttons div {\n",
              "      margin-bottom: 4px;\n",
              "    }\n",
              "\n",
              "    [theme=dark] .colab-df-convert {\n",
              "      background-color: #3B4455;\n",
              "      fill: #D2E3FC;\n",
              "    }\n",
              "\n",
              "    [theme=dark] .colab-df-convert:hover {\n",
              "      background-color: #434B5C;\n",
              "      box-shadow: 0px 1px 3px 1px rgba(0, 0, 0, 0.15);\n",
              "      filter: drop-shadow(0px 1px 2px rgba(0, 0, 0, 0.3));\n",
              "      fill: #FFFFFF;\n",
              "    }\n",
              "  </style>\n",
              "\n",
              "    <script>\n",
              "      const buttonEl =\n",
              "        document.querySelector('#df-593b6405-7a8b-4ad8-8fe3-87aac16a91e3 button.colab-df-convert');\n",
              "      buttonEl.style.display =\n",
              "        google.colab.kernel.accessAllowed ? 'block' : 'none';\n",
              "\n",
              "      async function convertToInteractive(key) {\n",
              "        const element = document.querySelector('#df-593b6405-7a8b-4ad8-8fe3-87aac16a91e3');\n",
              "        const dataTable =\n",
              "          await google.colab.kernel.invokeFunction('convertToInteractive',\n",
              "                                                    [key], {});\n",
              "        if (!dataTable) return;\n",
              "\n",
              "        const docLinkHtml = 'Like what you see? Visit the ' +\n",
              "          '<a target=\"_blank\" href=https://colab.research.google.com/notebooks/data_table.ipynb>data table notebook</a>'\n",
              "          + ' to learn more about interactive tables.';\n",
              "        element.innerHTML = '';\n",
              "        dataTable['output_type'] = 'display_data';\n",
              "        await google.colab.output.renderOutput(dataTable, element);\n",
              "        const docLink = document.createElement('div');\n",
              "        docLink.innerHTML = docLinkHtml;\n",
              "        element.appendChild(docLink);\n",
              "      }\n",
              "    </script>\n",
              "  </div>\n",
              "\n",
              "\n",
              "<div id=\"df-ac59b523-40ed-440e-afbd-3b2799e5de7b\">\n",
              "  <button class=\"colab-df-quickchart\" onclick=\"quickchart('df-ac59b523-40ed-440e-afbd-3b2799e5de7b')\"\n",
              "            title=\"Suggest charts\"\n",
              "            style=\"display:none;\">\n",
              "\n",
              "<svg xmlns=\"http://www.w3.org/2000/svg\" height=\"24px\"viewBox=\"0 0 24 24\"\n",
              "     width=\"24px\">\n",
              "    <g>\n",
              "        <path d=\"M19 3H5c-1.1 0-2 .9-2 2v14c0 1.1.9 2 2 2h14c1.1 0 2-.9 2-2V5c0-1.1-.9-2-2-2zM9 17H7v-7h2v7zm4 0h-2V7h2v10zm4 0h-2v-4h2v4z\"/>\n",
              "    </g>\n",
              "</svg>\n",
              "  </button>\n",
              "\n",
              "<style>\n",
              "  .colab-df-quickchart {\n",
              "      --bg-color: #E8F0FE;\n",
              "      --fill-color: #1967D2;\n",
              "      --hover-bg-color: #E2EBFA;\n",
              "      --hover-fill-color: #174EA6;\n",
              "      --disabled-fill-color: #AAA;\n",
              "      --disabled-bg-color: #DDD;\n",
              "  }\n",
              "\n",
              "  [theme=dark] .colab-df-quickchart {\n",
              "      --bg-color: #3B4455;\n",
              "      --fill-color: #D2E3FC;\n",
              "      --hover-bg-color: #434B5C;\n",
              "      --hover-fill-color: #FFFFFF;\n",
              "      --disabled-bg-color: #3B4455;\n",
              "      --disabled-fill-color: #666;\n",
              "  }\n",
              "\n",
              "  .colab-df-quickchart {\n",
              "    background-color: var(--bg-color);\n",
              "    border: none;\n",
              "    border-radius: 50%;\n",
              "    cursor: pointer;\n",
              "    display: none;\n",
              "    fill: var(--fill-color);\n",
              "    height: 32px;\n",
              "    padding: 0;\n",
              "    width: 32px;\n",
              "  }\n",
              "\n",
              "  .colab-df-quickchart:hover {\n",
              "    background-color: var(--hover-bg-color);\n",
              "    box-shadow: 0 1px 2px rgba(60, 64, 67, 0.3), 0 1px 3px 1px rgba(60, 64, 67, 0.15);\n",
              "    fill: var(--button-hover-fill-color);\n",
              "  }\n",
              "\n",
              "  .colab-df-quickchart-complete:disabled,\n",
              "  .colab-df-quickchart-complete:disabled:hover {\n",
              "    background-color: var(--disabled-bg-color);\n",
              "    fill: var(--disabled-fill-color);\n",
              "    box-shadow: none;\n",
              "  }\n",
              "\n",
              "  .colab-df-spinner {\n",
              "    border: 2px solid var(--fill-color);\n",
              "    border-color: transparent;\n",
              "    border-bottom-color: var(--fill-color);\n",
              "    animation:\n",
              "      spin 1s steps(1) infinite;\n",
              "  }\n",
              "\n",
              "  @keyframes spin {\n",
              "    0% {\n",
              "      border-color: transparent;\n",
              "      border-bottom-color: var(--fill-color);\n",
              "      border-left-color: var(--fill-color);\n",
              "    }\n",
              "    20% {\n",
              "      border-color: transparent;\n",
              "      border-left-color: var(--fill-color);\n",
              "      border-top-color: var(--fill-color);\n",
              "    }\n",
              "    30% {\n",
              "      border-color: transparent;\n",
              "      border-left-color: var(--fill-color);\n",
              "      border-top-color: var(--fill-color);\n",
              "      border-right-color: var(--fill-color);\n",
              "    }\n",
              "    40% {\n",
              "      border-color: transparent;\n",
              "      border-right-color: var(--fill-color);\n",
              "      border-top-color: var(--fill-color);\n",
              "    }\n",
              "    60% {\n",
              "      border-color: transparent;\n",
              "      border-right-color: var(--fill-color);\n",
              "    }\n",
              "    80% {\n",
              "      border-color: transparent;\n",
              "      border-right-color: var(--fill-color);\n",
              "      border-bottom-color: var(--fill-color);\n",
              "    }\n",
              "    90% {\n",
              "      border-color: transparent;\n",
              "      border-bottom-color: var(--fill-color);\n",
              "    }\n",
              "  }\n",
              "</style>\n",
              "\n",
              "  <script>\n",
              "    async function quickchart(key) {\n",
              "      const quickchartButtonEl =\n",
              "        document.querySelector('#' + key + ' button');\n",
              "      quickchartButtonEl.disabled = true;  // To prevent multiple clicks.\n",
              "      quickchartButtonEl.classList.add('colab-df-spinner');\n",
              "      try {\n",
              "        const charts = await google.colab.kernel.invokeFunction(\n",
              "            'suggestCharts', [key], {});\n",
              "      } catch (error) {\n",
              "        console.error('Error during call to suggestCharts:', error);\n",
              "      }\n",
              "      quickchartButtonEl.classList.remove('colab-df-spinner');\n",
              "      quickchartButtonEl.classList.add('colab-df-quickchart-complete');\n",
              "    }\n",
              "    (() => {\n",
              "      let quickchartButtonEl =\n",
              "        document.querySelector('#df-ac59b523-40ed-440e-afbd-3b2799e5de7b button');\n",
              "      quickchartButtonEl.style.display =\n",
              "        google.colab.kernel.accessAllowed ? 'block' : 'none';\n",
              "    })();\n",
              "  </script>\n",
              "</div>\n",
              "\n",
              "    </div>\n",
              "  </div>\n"
            ],
            "text/plain": [
              "   epoch      loss  accuracy  val_loss  val_accuracy\n",
              "0      1  0.688971  0.660647  0.490318      0.777083\n",
              "1      2  0.481598  0.759217  0.447781      0.791667\n",
              "2      3  0.458042  0.777276  0.467737      0.756250\n",
              "3      4  0.426282  0.799850  0.470532      0.783333\n",
              "4      5  0.413478  0.794582  0.447338      0.781250"
            ]
          },
          "execution_count": 38,
          "metadata": {},
          "output_type": "execute_result"
        }
      ],
      "source": [
        "hist_df = pd.DataFrame(history.history)\n",
        "hist_df['epoch'] = hist_df.index + 1\n",
        "cols = list(hist_df.columns)\n",
        "cols = [cols[-1]] + cols[:-1]\n",
        "hist_df = hist_df[cols]\n",
        "hist_df.to_csv(checkpoint_no + '/' + 'history_df_' + model_name + '.csv')\n",
        "hist_df.head()"
      ]
    },
    {
      "cell_type": "code",
      "execution_count": null,
      "metadata": {
        "colab": {
          "base_uri": "https://localhost:8080/",
          "height": 89
        },
        "id": "lpmqwEuYhMTC",
        "outputId": "046c42a0-6380-47e5-98c2-f3d01e7757e9"
      },
      "outputs": [
        {
          "data": {
            "application/vnd.google.colaboratory.intrinsic+json": {
              "summary": "{\n  \"name\": \"values_of_best_model\",\n  \"rows\": 1,\n  \"fields\": [\n    {\n      \"column\": \"epoch\",\n      \"properties\": {\n        \"dtype\": \"number\",\n        \"std\": null,\n        \"min\": 11,\n        \"max\": 11,\n        \"num_unique_values\": 1,\n        \"samples\": [\n          11\n        ],\n        \"semantic_type\": \"\",\n        \"description\": \"\"\n      }\n    },\n    {\n      \"column\": \"loss\",\n      \"properties\": {\n        \"dtype\": \"number\",\n        \"std\": null,\n        \"min\": 0.37210458517074585,\n        \"max\": 0.37210458517074585,\n        \"num_unique_values\": 1,\n        \"samples\": [\n          0.37210458517074585\n        ],\n        \"semantic_type\": \"\",\n        \"description\": \"\"\n      }\n    },\n    {\n      \"column\": \"accuracy\",\n      \"properties\": {\n        \"dtype\": \"number\",\n        \"std\": null,\n        \"min\": 0.8201655149459839,\n        \"max\": 0.8201655149459839,\n        \"num_unique_values\": 1,\n        \"samples\": [\n          0.8201655149459839\n        ],\n        \"semantic_type\": \"\",\n        \"description\": \"\"\n      }\n    },\n    {\n      \"column\": \"val_loss\",\n      \"properties\": {\n        \"dtype\": \"number\",\n        \"std\": null,\n        \"min\": 0.4244680106639862,\n        \"max\": 0.4244680106639862,\n        \"num_unique_values\": 1,\n        \"samples\": [\n          0.4244680106639862\n        ],\n        \"semantic_type\": \"\",\n        \"description\": \"\"\n      }\n    },\n    {\n      \"column\": \"val_accuracy\",\n      \"properties\": {\n        \"dtype\": \"number\",\n        \"std\": null,\n        \"min\": 0.8062499761581421,\n        \"max\": 0.8062499761581421,\n        \"num_unique_values\": 1,\n        \"samples\": [\n          0.8062499761581421\n        ],\n        \"semantic_type\": \"\",\n        \"description\": \"\"\n      }\n    }\n  ]\n}",
              "type": "dataframe",
              "variable_name": "values_of_best_model"
            },
            "text/html": [
              "\n",
              "  <div id=\"df-65c6b365-2c98-419b-a827-285e19ef349c\" class=\"colab-df-container\">\n",
              "    <div>\n",
              "<style scoped>\n",
              "    .dataframe tbody tr th:only-of-type {\n",
              "        vertical-align: middle;\n",
              "    }\n",
              "\n",
              "    .dataframe tbody tr th {\n",
              "        vertical-align: top;\n",
              "    }\n",
              "\n",
              "    .dataframe thead th {\n",
              "        text-align: right;\n",
              "    }\n",
              "</style>\n",
              "<table border=\"1\" class=\"dataframe\">\n",
              "  <thead>\n",
              "    <tr style=\"text-align: right;\">\n",
              "      <th></th>\n",
              "      <th>epoch</th>\n",
              "      <th>loss</th>\n",
              "      <th>accuracy</th>\n",
              "      <th>val_loss</th>\n",
              "      <th>val_accuracy</th>\n",
              "    </tr>\n",
              "  </thead>\n",
              "  <tbody>\n",
              "    <tr>\n",
              "      <th>10</th>\n",
              "      <td>11</td>\n",
              "      <td>0.372105</td>\n",
              "      <td>0.820166</td>\n",
              "      <td>0.424468</td>\n",
              "      <td>0.80625</td>\n",
              "    </tr>\n",
              "  </tbody>\n",
              "</table>\n",
              "</div>\n",
              "    <div class=\"colab-df-buttons\">\n",
              "\n",
              "  <div class=\"colab-df-container\">\n",
              "    <button class=\"colab-df-convert\" onclick=\"convertToInteractive('df-65c6b365-2c98-419b-a827-285e19ef349c')\"\n",
              "            title=\"Convert this dataframe to an interactive table.\"\n",
              "            style=\"display:none;\">\n",
              "\n",
              "  <svg xmlns=\"http://www.w3.org/2000/svg\" height=\"24px\" viewBox=\"0 -960 960 960\">\n",
              "    <path d=\"M120-120v-720h720v720H120Zm60-500h600v-160H180v160Zm220 220h160v-160H400v160Zm0 220h160v-160H400v160ZM180-400h160v-160H180v160Zm440 0h160v-160H620v160ZM180-180h160v-160H180v160Zm440 0h160v-160H620v160Z\"/>\n",
              "  </svg>\n",
              "    </button>\n",
              "\n",
              "  <style>\n",
              "    .colab-df-container {\n",
              "      display:flex;\n",
              "      gap: 12px;\n",
              "    }\n",
              "\n",
              "    .colab-df-convert {\n",
              "      background-color: #E8F0FE;\n",
              "      border: none;\n",
              "      border-radius: 50%;\n",
              "      cursor: pointer;\n",
              "      display: none;\n",
              "      fill: #1967D2;\n",
              "      height: 32px;\n",
              "      padding: 0 0 0 0;\n",
              "      width: 32px;\n",
              "    }\n",
              "\n",
              "    .colab-df-convert:hover {\n",
              "      background-color: #E2EBFA;\n",
              "      box-shadow: 0px 1px 2px rgba(60, 64, 67, 0.3), 0px 1px 3px 1px rgba(60, 64, 67, 0.15);\n",
              "      fill: #174EA6;\n",
              "    }\n",
              "\n",
              "    .colab-df-buttons div {\n",
              "      margin-bottom: 4px;\n",
              "    }\n",
              "\n",
              "    [theme=dark] .colab-df-convert {\n",
              "      background-color: #3B4455;\n",
              "      fill: #D2E3FC;\n",
              "    }\n",
              "\n",
              "    [theme=dark] .colab-df-convert:hover {\n",
              "      background-color: #434B5C;\n",
              "      box-shadow: 0px 1px 3px 1px rgba(0, 0, 0, 0.15);\n",
              "      filter: drop-shadow(0px 1px 2px rgba(0, 0, 0, 0.3));\n",
              "      fill: #FFFFFF;\n",
              "    }\n",
              "  </style>\n",
              "\n",
              "    <script>\n",
              "      const buttonEl =\n",
              "        document.querySelector('#df-65c6b365-2c98-419b-a827-285e19ef349c button.colab-df-convert');\n",
              "      buttonEl.style.display =\n",
              "        google.colab.kernel.accessAllowed ? 'block' : 'none';\n",
              "\n",
              "      async function convertToInteractive(key) {\n",
              "        const element = document.querySelector('#df-65c6b365-2c98-419b-a827-285e19ef349c');\n",
              "        const dataTable =\n",
              "          await google.colab.kernel.invokeFunction('convertToInteractive',\n",
              "                                                    [key], {});\n",
              "        if (!dataTable) return;\n",
              "\n",
              "        const docLinkHtml = 'Like what you see? Visit the ' +\n",
              "          '<a target=\"_blank\" href=https://colab.research.google.com/notebooks/data_table.ipynb>data table notebook</a>'\n",
              "          + ' to learn more about interactive tables.';\n",
              "        element.innerHTML = '';\n",
              "        dataTable['output_type'] = 'display_data';\n",
              "        await google.colab.output.renderOutput(dataTable, element);\n",
              "        const docLink = document.createElement('div');\n",
              "        docLink.innerHTML = docLinkHtml;\n",
              "        element.appendChild(docLink);\n",
              "      }\n",
              "    </script>\n",
              "  </div>\n",
              "\n",
              "\n",
              "  <div id=\"id_690ca6ee-f5ae-477a-9df6-1851ad698cc6\">\n",
              "    <style>\n",
              "      .colab-df-generate {\n",
              "        background-color: #E8F0FE;\n",
              "        border: none;\n",
              "        border-radius: 50%;\n",
              "        cursor: pointer;\n",
              "        display: none;\n",
              "        fill: #1967D2;\n",
              "        height: 32px;\n",
              "        padding: 0 0 0 0;\n",
              "        width: 32px;\n",
              "      }\n",
              "\n",
              "      .colab-df-generate:hover {\n",
              "        background-color: #E2EBFA;\n",
              "        box-shadow: 0px 1px 2px rgba(60, 64, 67, 0.3), 0px 1px 3px 1px rgba(60, 64, 67, 0.15);\n",
              "        fill: #174EA6;\n",
              "      }\n",
              "\n",
              "      [theme=dark] .colab-df-generate {\n",
              "        background-color: #3B4455;\n",
              "        fill: #D2E3FC;\n",
              "      }\n",
              "\n",
              "      [theme=dark] .colab-df-generate:hover {\n",
              "        background-color: #434B5C;\n",
              "        box-shadow: 0px 1px 3px 1px rgba(0, 0, 0, 0.15);\n",
              "        filter: drop-shadow(0px 1px 2px rgba(0, 0, 0, 0.3));\n",
              "        fill: #FFFFFF;\n",
              "      }\n",
              "    </style>\n",
              "    <button class=\"colab-df-generate\" onclick=\"generateWithVariable('values_of_best_model')\"\n",
              "            title=\"Generate code using this dataframe.\"\n",
              "            style=\"display:none;\">\n",
              "\n",
              "  <svg xmlns=\"http://www.w3.org/2000/svg\" height=\"24px\"viewBox=\"0 0 24 24\"\n",
              "       width=\"24px\">\n",
              "    <path d=\"M7,19H8.4L18.45,9,17,7.55,7,17.6ZM5,21V16.75L18.45,3.32a2,2,0,0,1,2.83,0l1.4,1.43a1.91,1.91,0,0,1,.58,1.4,1.91,1.91,0,0,1-.58,1.4L9.25,21ZM18.45,9,17,7.55Zm-12,3A5.31,5.31,0,0,0,4.9,8.1,5.31,5.31,0,0,0,1,6.5,5.31,5.31,0,0,0,4.9,4.9,5.31,5.31,0,0,0,6.5,1,5.31,5.31,0,0,0,8.1,4.9,5.31,5.31,0,0,0,12,6.5,5.46,5.46,0,0,0,6.5,12Z\"/>\n",
              "  </svg>\n",
              "    </button>\n",
              "    <script>\n",
              "      (() => {\n",
              "      const buttonEl =\n",
              "        document.querySelector('#id_690ca6ee-f5ae-477a-9df6-1851ad698cc6 button.colab-df-generate');\n",
              "      buttonEl.style.display =\n",
              "        google.colab.kernel.accessAllowed ? 'block' : 'none';\n",
              "\n",
              "      buttonEl.onclick = () => {\n",
              "        google.colab.notebook.generateWithVariable('values_of_best_model');\n",
              "      }\n",
              "      })();\n",
              "    </script>\n",
              "  </div>\n",
              "\n",
              "    </div>\n",
              "  </div>\n"
            ],
            "text/plain": [
              "    epoch      loss  accuracy  val_loss  val_accuracy\n",
              "10     11  0.372105  0.820166  0.424468       0.80625"
            ]
          },
          "execution_count": 39,
          "metadata": {},
          "output_type": "execute_result"
        }
      ],
      "source": [
        "values_of_best_model = hist_df[hist_df.val_loss == hist_df.val_loss.min()]\n",
        "values_of_best_model"
      ]
    },
    {
      "cell_type": "markdown",
      "metadata": {
        "id": "vU4HBd5chMTC"
      },
      "source": [
        "## Obtaining class assignments"
      ]
    },
    {
      "cell_type": "code",
      "execution_count": null,
      "metadata": {
        "colab": {
          "base_uri": "https://localhost:8080/"
        },
        "id": "Lb8YS9iUhMTC",
        "outputId": "e2428baa-6eac-4322-d98d-2b0c88bab59c"
      },
      "outputs": [
        {
          "name": "stdout",
          "output_type": "stream",
          "text": [
            "Class assignment: {'classic': 0, 'manga': 1}\n"
          ]
        }
      ],
      "source": [
        "class_assignment = train_generator.class_indices\n",
        "\n",
        "df = pd.DataFrame([class_assignment], columns=class_assignment.keys())\n",
        "df_stacked = df.stack()\n",
        "df_temp = pd.DataFrame(df_stacked).reset_index().drop(['level_0'], axis=1)\n",
        "df_temp.columns = ['Category', 'Allocated Number']\n",
        "df_temp.to_csv(checkpoint_no + '/' + 'class_assignment_df_' + model_name + '.csv')\n",
        "\n",
        "print('Class assignment:', str(class_assignment))"
      ]
    },
    {
      "cell_type": "markdown",
      "metadata": {
        "id": "xVht1C9LhMTD"
      },
      "source": [
        "## Validation"
      ]
    },
    {
      "cell_type": "code",
      "execution_count": null,
      "metadata": {
        "colab": {
          "base_uri": "https://localhost:8080/",
          "height": 887
        },
        "id": "RLcbcMvmhMTD",
        "outputId": "a151b6d4-a461-4950-c78d-c4024fa22335"
      },
      "outputs": [
        {
          "data": {
            "image/png": "[encoded data removed]",
            "text/plain": [
              "<Figure size 640x480 with 1 Axes>"
            ]
          },
          "metadata": {},
          "output_type": "display_data"
        },
        {
          "data": {
            "image/png": "[encoded data removed]",
            "text/plain": [
              "<Figure size 640x480 with 1 Axes>"
            ]
          },
          "metadata": {},
          "output_type": "display_data"
        }
      ],
      "source": [
        "acc = history.history['accuracy']\n",
        "val_acc = history.history['val_accuracy']\n",
        "loss = history.history['loss']\n",
        "val_loss = history.history['val_loss']\n",
        "\n",
        "epochs = range(1, len(acc) + 1)\n",
        "\n",
        "plt.plot(epochs, acc, 'bo', label='Training acc')\n",
        "plt.plot(epochs, val_acc, 'b', label='Validation acc')\n",
        "plt.title('Training and validation accuracy')\n",
        "plt.legend()\n",
        "\n",
        "plt.figure()\n",
        "\n",
        "plt.plot(epochs, loss, 'bo', label='Training loss')\n",
        "plt.plot(epochs, val_loss, 'b', label='Validation loss')\n",
        "plt.title('Training and validation loss')\n",
        "plt.legend()\n",
        "\n",
        "plt.show()"
      ]
    },
    {
      "cell_type": "markdown",
      "metadata": {
        "id": "k4PXZZGIhMTD"
      },
      "source": [
        "## Load best model"
      ]
    },
    {
      "cell_type": "code",
      "execution_count": null,
      "metadata": {
        "colab": {
          "base_uri": "https://localhost:8080/"
        },
        "id": "GC4kpO1WhMTD",
        "outputId": "81da837f-9715-49c1-8d79-f764cec6ae54"
      },
      "outputs": [
        {
          "name": "stderr",
          "output_type": "stream",
          "text": [
            "/usr/local/lib/python3.10/dist-packages/keras/src/engine/training.py:3103: UserWarning: You are saving your model as an HDF5 file via `model.save()`. This file format is considered legacy. We recommend using instead the native Keras format, e.g. `model.save('my_model.keras')`.\n",
            "  saving_api.save_model(\n"
          ]
        }
      ],
      "source": [
        "# Loading the automatically saved model\n",
        "model_reloaded = load_model(checkpoint_no)\n",
        "\n",
        "# Saving the best model in the correct path and format\n",
        "root_directory = os.getcwd()\n",
        "checkpoint_dir = os.path.join(root_directory, checkpoint_no)\n",
        "model_name_temp = os.path.join(checkpoint_dir, model_name + '.h5')\n",
        "model_reloaded.save(model_name_temp)\n",
        "\n",
        "# Deletion of the automatically created folders/.pb file under Model Checkpoint File.\n",
        "folder_name_temp1 = os.path.join(checkpoint_dir, 'assets')\n",
        "folder_name_temp2 = os.path.join(checkpoint_dir, 'variables')\n",
        "file_name_temp = os.path.join(checkpoint_dir, 'saved_model.pb')\n",
        "\n",
        "shutil.move(file_name_temp, folder_name_temp1)\n",
        "shutil.rmtree(folder_name_temp1, ignore_errors=True)\n",
        "shutil.rmtree(folder_name_temp2, ignore_errors=True)"
      ]
    },
    {
      "cell_type": "code",
      "execution_count": null,
      "metadata": {
        "id": "oR22ag31hMTD"
      },
      "outputs": [],
      "source": [
        "best_model = load_model(model_name_temp)"
      ]
    },
    {
      "cell_type": "markdown",
      "metadata": {
        "id": "4V59JYD1hMTE"
      },
      "source": [
        "## Model Testing"
      ]
    },
    {
      "cell_type": "code",
      "execution_count": null,
      "metadata": {
        "colab": {
          "base_uri": "https://localhost:8080/"
        },
        "id": "hcXgx_OohMTE",
        "outputId": "6365529c-44cd-41eb-d2d8-cf0067bcee05"
      },
      "outputs": [
        {
          "name": "stdout",
          "output_type": "stream",
          "text": [
            "Found 80 images belonging to 2 classes.\n",
            "1/1 [==============================] - 7s 7s/step - loss: 0.7793 - accuracy: 0.6250\n",
            "\n",
            "Test Accuracy: 0.625\n"
          ]
        }
      ],
      "source": [
        "test_datagen = ImageDataGenerator(rescale=1./255)\n",
        "\n",
        "test_generator = test_datagen.flow_from_directory(\n",
        "        test_dir,\n",
        "        target_size=(img_height, img_width),\n",
        "        batch_size=n_batch_size,\n",
        "        class_mode='categorical')\n",
        "\n",
        "test_loss, test_acc = best_model.evaluate(test_generator, steps=n_test_steps)\n",
        "print()\n",
        "print('Test Accuracy:', test_acc)"
      ]
    },
    {
      "cell_type": "code",
      "execution_count": null,
      "metadata": {
        "id": "d4QzxpOshMTF"
      },
      "outputs": [],
      "source": [
        "pk.dump(img_height, open(checkpoint_dir+ '\\\\' +'img_height.pkl', 'wb'))\n",
        "pk.dump(img_width, open(checkpoint_dir+ '\\\\' +'img_width.pkl', 'wb'))"
      ]
    },
    {
      "cell_type": "markdown",
      "metadata": {
        "id": "4DB22W5vhMTF"
      },
      "source": [
        "## Test Out of the Box Pictures"
      ]
    },
    {
      "cell_type": "code",
      "execution_count": null,
      "metadata": {
        "colab": {
          "base_uri": "https://localhost:8080/"
        },
        "id": "h7qqTVvohMTG",
        "outputId": "bfe645fb-8b2c-429a-d2ca-86bc7e8aa715"
      },
      "outputs": [
        {
          "name": "stdout",
          "output_type": "stream",
          "text": [
            "Used image height: 150\n",
            "Used image width: 150\n",
            "Model: \"sequential_4\"\n",
            "_________________________________________________________________\n",
            " Layer (type)                Output Shape              Param #   \n",
            "=================================================================\n",
            " vgg16 (Functional)          (None, 4, 4, 512)         14714688  \n",
            "                                                                 \n",
            " flatten_4 (Flatten)         (None, 8192)              0         \n",
            "                                                                 \n",
            " dense_8 (Dense)             (None, 256)               2097408   \n",
            "                                                                 \n",
            " dense_9 (Dense)             (None, 2)                 514       \n",
            "                                                                 \n",
            "=================================================================\n",
            "Total params: 16812610 (64.14 MB)\n",
            "Trainable params: 2097922 (8.00 MB)\n",
            "Non-trainable params: 14714688 (56.13 MB)\n",
            "_________________________________________________________________\n",
            "Model Summary :None\n",
            "\n",
            "\n",
            "CATEGORIES : ['classic', 'manga']\n",
            "\n",
            "Used image height: 150\n",
            "Used image width: 150\n"
          ]
        }
      ],
      "source": [
        "# Determine Checkpoint Dir\n",
        "checkpoint_dir = 'ckpt_1_CNN_with_TF_VGG19_with_DataAug'\n",
        "\n",
        "# Load best model\n",
        "best_model = load_model(checkpoint_dir + '/' + 'Animals_CNN_TF_VGG19_epoch_30_ES.h5')\n",
        "\n",
        "# Load the categories\n",
        "df = pd.read_csv(checkpoint_dir + '/' + 'class_assignment_df_Animals_CNN_TF_VGG19_epoch_30_ES.csv')\n",
        "df = df.sort_values(by='Allocated Number', ascending=True)\n",
        "CATEGORIES = df['Category'].to_list()\n",
        "\n",
        "\n",
        "# Load the used image height and width\n",
        "import pickle as pk\n",
        "\n",
        "# Load the used image height and width\n",
        "with open('/content/ckpt_1_CNN_with_TF_VGG19_with_DataAug\\img_height.pkl', 'rb') as f:\n",
        "    img_height_reload = pk.load(f)\n",
        "\n",
        "with open('/content/ckpt_1_CNN_with_TF_VGG19_with_DataAug\\img_width.pkl', 'rb') as f:\n",
        "    img_width_reload = pk.load(f)\n",
        "\n",
        "print('Used image height: ' + str(img_height_reload))\n",
        "print('Used image width: ' + str(img_width_reload))\n",
        "\n",
        "print('Model Summary :' + str(best_model.summary()))\n",
        "print()\n",
        "print()\n",
        "print('CATEGORIES : ' + str(CATEGORIES))\n",
        "print()\n",
        "print('Used image height: ' + str(img_height_reload))\n",
        "print('Used image width: ' + str(img_width_reload))"
      ]
    },
    {
      "cell_type": "code",
      "execution_count": null,
      "metadata": {
        "id": "HVMFe0eZoakR"
      },
      "outputs": [],
      "source": [
        "/content/ckpt_1_CNN_with_TF_VGG19_with_DataAug\\img_height.pkl\n",
        "/content/ckpt_1_CNN_with_TF_VGG19_with_DataAug\\img_width.pkl"
      ]
    },
    {
      "cell_type": "code",
      "execution_count": null,
      "metadata": {
        "colab": {
          "base_uri": "https://localhost:8080/",
          "height": 539
        },
        "id": "pUH0a5cbhMTH",
        "outputId": "1e990d4b-dc31-45a0-cd7f-d7304f758998"
      },
      "outputs": [
        {
          "name": "stdout",
          "output_type": "stream",
          "text": [
            "AxesImage(size=(280, 260))\n",
            "1/1 [==============================] - 0s 432ms/step\n",
            "\n",
            "------------------------------------\n",
            "Predicted Class: manga\n",
            "------------------------------------\n"
          ]
        },
        {
          "data": {
            "image/png": "[encoded data removed]",
            "text/plain": [
              "<Figure size 640x480 with 1 Axes>"
            ]
          },
          "metadata": {},
          "output_type": "display_data"
        }
      ],
      "source": [
        "img_pred = cv2.imread('/content/manga_img378.jpg')\n",
        "\n",
        "print(plt.imshow(cv2.cvtColor(img_pred, cv2.COLOR_BGR2RGB)))\n",
        "\n",
        "img_pred = cv2.resize(img_pred,(img_height_reload,img_width_reload))\n",
        "img_pred = np.reshape(img_pred,[1,img_height_reload,img_width_reload,3])\n",
        "\n",
        "classes = np.argmax(best_model.predict(img_pred), axis=-1)\n",
        "\n",
        "print()\n",
        "print('------------------------------------')\n",
        "print('Predicted Class: ' + CATEGORIES[int(classes[0])])\n",
        "print('------------------------------------')"
      ]
    }
  ],
  "metadata": {
    "colab": {
      "provenance": [],
      "gpuType": "T4"
    },
    "kernelspec": {
      "display_name": "Python 3",
      "name": "python3"
    },
    "language_info": {
      "codemirror_mode": {
        "name": "ipython",
        "version": 3
      },
      "file_extension": ".py",
      "mimetype": "text/x-python",
      "name": "python",
      "nbconvert_exporter": "python",
      "pygments_lexer": "ipython3",
      "version": "3.6.8"
    },
    "toc": {
      "base_numbering": 1,
      "nav_menu": {},
      "number_sections": true,
      "sideBar": true,
      "skip_h1_title": false,
      "title_cell": "Table of Contents",
      "title_sidebar": "Contents",
      "toc_cell": false,
      "toc_position": {
        "height": "calc(100% - 180px)",
        "left": "10px",
        "top": "150px",
        "width": "289.6px"
      },
      "toc_section_display": true,
      "toc_window_display": true
    },
    "accelerator": "GPU"
  },
  "nbformat": 4,
  "nbformat_minor": 0
}